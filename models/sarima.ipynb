{
 "cells": [
  {
   "cell_type": "code",
   "execution_count": 1,
   "metadata": {},
   "outputs": [],
   "source": [
    "# Import standard libraries\n",
    "\n",
    "import pandas as pd\n",
    "import numpy as np\n",
    "from sklearn.model_selection import train_test_split\n",
    "from sklearn.linear_model import LinearRegression\n",
    "from sklearn.metrics import mean_squared_error, r2_score"
   ]
  },
  {
   "cell_type": "code",
   "execution_count": 2,
   "metadata": {},
   "outputs": [
    {
     "name": "stdout",
     "output_type": "stream",
     "text": [
      "   Transaction ID        Date Customer ID  Gender  Age Product Category  \\\n",
      "0               1  2023-11-24     CUST001    Male   34           Beauty   \n",
      "1               2  2023-02-27     CUST002  Female   26         Clothing   \n",
      "2               3  2023-01-13     CUST003    Male   50      Electronics   \n",
      "3               4  2023-05-21     CUST004    Male   37         Clothing   \n",
      "4               5  2023-05-06     CUST005    Male   30           Beauty   \n",
      "\n",
      "   Quantity  Price per Unit  Total Amount  \n",
      "0         3              50           150  \n",
      "1         2             500          1000  \n",
      "2         1              30            30  \n",
      "3         1             500           500  \n",
      "4         2              50           100  \n"
     ]
    }
   ],
   "source": [
    "# Move up one level to data, then access raw\n",
    "file_path = '../data/raw/retail_sales_dataset.csv'\n",
    "\n",
    "# Load the CSV file\n",
    "retail_data = pd.read_csv(file_path)\n",
    "\n",
    "# Display the first few rows of the data\n",
    "print(retail_data.head())"
   ]
  },
  {
   "cell_type": "code",
   "execution_count": 9,
   "metadata": {},
   "outputs": [
    {
     "name": "stdout",
     "output_type": "stream",
     "text": [
      "   Transaction ID       Date Customer ID  Gender  Age Product Category  \\\n",
      "0               1 2023-11-24     CUST001    Male   34           Beauty   \n",
      "1               2 2023-02-27     CUST002  Female   26         Clothing   \n",
      "2               3 2023-01-13     CUST003    Male   50      Electronics   \n",
      "3               4 2023-05-21     CUST004    Male   37         Clothing   \n",
      "4               5 2023-05-06     CUST005    Male   30           Beauty   \n",
      "\n",
      "   Quantity  Price per Unit  Total Amount  is_holiday   holiday_name  \n",
      "0         3              50           150       False  Not a holiday  \n",
      "1         2             500          1000       False  Not a holiday  \n",
      "2         1              30            30       False  Not a holiday  \n",
      "3         1             500           500       False  Not a holiday  \n",
      "4         2              50           100       False  Not a holiday  \n"
     ]
    }
   ],
   "source": [
    "import pandas as pd\n",
    "import holidays\n",
    "\n",
    "# Assuming retail_data['Date'] is a datetime column\n",
    "retail_data['Date'] = pd.to_datetime(retail_data['Date'])\n",
    "\n",
    "# Initialize Canadian holidays for 2023 and 2024\n",
    "canadian_holidays = holidays.Canada(years=[2023, 2024])\n",
    "\n",
    "# Create a column for whether the date is a holiday\n",
    "retail_data['is_holiday'] = retail_data['Date'].dt.date.isin(canadian_holidays.keys())\n",
    "\n",
    "# Alternatively, map the holiday name to the date, leaving NaN for non-holidays\n",
    "retail_data['holiday_name'] = retail_data['Date'].dt.date.map(canadian_holidays).fillna('Not a holiday')\n",
    "\n",
    "# Check the updated data\n",
    "print(retail_data.head())\n",
    "\n"
   ]
  },
  {
   "cell_type": "code",
   "execution_count": 10,
   "metadata": {},
   "outputs": [
    {
     "name": "stdout",
     "output_type": "stream",
     "text": [
      "          Date               holiday_name\n",
      "77  2023-07-01                 Canada Day\n",
      "162 2023-01-02  New Year's Day (observed)\n",
      "179 2023-01-01             New Year's Day\n",
      "210 2024-01-01             New Year's Day\n",
      "259 2023-07-01                 Canada Day\n",
      "296 2023-09-04                 Labour Day\n",
      "302 2023-01-02  New Year's Day (observed)\n",
      "420 2023-01-02  New Year's Day (observed)\n",
      "454 2023-07-01                 Canada Day\n",
      "521 2023-01-01             New Year's Day\n",
      "558 2023-01-01             New Year's Day\n",
      "649 2024-01-01             New Year's Day\n",
      "756 2023-12-25              Christmas Day\n",
      "836 2023-07-01                 Canada Day\n",
      "978 2023-01-02  New Year's Day (observed)\n"
     ]
    }
   ],
   "source": [
    "# Filter the data for holidays\n",
    "holidays_data = retail_data[retail_data['is_holiday'] == True]\n",
    "\n",
    "# Display the holidays and their corresponding names\n",
    "print(holidays_data[['Date', 'holiday_name']])\n"
   ]
  }
 ],
 "metadata": {
  "kernelspec": {
   "display_name": "dsi_participant",
   "language": "python",
   "name": "python3"
  },
  "language_info": {
   "codemirror_mode": {
    "name": "ipython",
    "version": 3
   },
   "file_extension": ".py",
   "mimetype": "text/x-python",
   "name": "python",
   "nbconvert_exporter": "python",
   "pygments_lexer": "ipython3",
   "version": "3.9.19"
  }
 },
 "nbformat": 4,
 "nbformat_minor": 2
}
