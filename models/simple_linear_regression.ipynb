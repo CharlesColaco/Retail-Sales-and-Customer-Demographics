{
 "cells": [
  {
   "cell_type": "code",
   "execution_count": 1,
   "metadata": {},
   "outputs": [],
   "source": [
    "# Import standard libraries\n",
    "\n",
    "import pandas as pd\n",
    "import numpy as np\n",
    "from sklearn.model_selection import train_test_split\n",
    "from sklearn.linear_model import LinearRegression\n",
    "from sklearn.metrics import mean_squared_error, r2_score\n",
    "import matplotlib.pyplot as plt"
   ]
  },
  {
   "cell_type": "code",
   "execution_count": 2,
   "metadata": {},
   "outputs": [
    {
     "name": "stdout",
     "output_type": "stream",
     "text": [
      "   Transaction ID        Date Customer ID  Gender  Age Product Category  \\\n",
      "0               1  2023-11-24     CUST001    Male   34           Beauty   \n",
      "1               2  2023-02-27     CUST002  Female   26         Clothing   \n",
      "2               3  2023-01-13     CUST003    Male   50      Electronics   \n",
      "3               4  2023-05-21     CUST004    Male   37         Clothing   \n",
      "4               5  2023-05-06     CUST005    Male   30           Beauty   \n",
      "\n",
      "   Quantity  Price per Unit  Total Amount  \n",
      "0         3              50           150  \n",
      "1         2             500          1000  \n",
      "2         1              30            30  \n",
      "3         1             500           500  \n",
      "4         2              50           100  \n"
     ]
    }
   ],
   "source": [
    "# Move up one level to data, then access raw\n",
    "file_path = '../data/raw/retail_sales_dataset.csv'\n",
    "\n",
    "# Load the CSV file\n",
    "retail_data = pd.read_csv(file_path)\n",
    "\n",
    "# Display the first few rows of the data\n",
    "print(retail_data.head())"
   ]
  },
  {
   "cell_type": "code",
   "execution_count": 3,
   "metadata": {},
   "outputs": [],
   "source": [
    "# Convert 'date' to datetime format\n",
    "retail_data['Date'] = pd.to_datetime(retail_data['Date'])"
   ]
  },
  {
   "cell_type": "code",
   "execution_count": 4,
   "metadata": {},
   "outputs": [
    {
     "name": "stdout",
     "output_type": "stream",
     "text": [
      "   Transaction ID       Date Customer ID  Gender  Age Product Category  \\\n",
      "0               1 2023-11-24     CUST001    Male   34           Beauty   \n",
      "1               2 2023-02-27     CUST002  Female   26         Clothing   \n",
      "2               3 2023-01-13     CUST003    Male   50      Electronics   \n",
      "3               4 2023-05-21     CUST004    Male   37         Clothing   \n",
      "4               5 2023-05-06     CUST005    Male   30           Beauty   \n",
      "\n",
      "   Quantity  Price per Unit  Total Amount  month  day_of_week  year  \n",
      "0         3              50           150     11            4  2023  \n",
      "1         2             500          1000      2            0  2023  \n",
      "2         1              30            30      1            4  2023  \n",
      "3         1             500           500      5            6  2023  \n",
      "4         2              50           100      5            5  2023  \n"
     ]
    }
   ],
   "source": [
    "# Extract date features (month, day of the week, etc.)\n",
    "retail_data['month'] = retail_data['Date'].dt.month\n",
    "retail_data['day_of_week'] = retail_data['Date'].dt.dayofweek\n",
    "retail_data['year'] = retail_data['Date'].dt.year\n",
    "\n",
    "print(retail_data.head())"
   ]
  },
  {
   "cell_type": "code",
   "execution_count": 9,
   "metadata": {},
   "outputs": [
    {
     "name": "stdout",
     "output_type": "stream",
     "text": [
      "    year  month  Total Amount\n",
      "0   2023      5         53150\n",
      "1   2023     10         46580\n",
      "2   2023     12         44690\n",
      "3   2023      2         44060\n",
      "4   2023      8         36960\n",
      "5   2023      6         36715\n",
      "6   2023      7         35465\n",
      "7   2023      1         35450\n",
      "8   2023     11         34920\n",
      "9   2023      4         33870\n",
      "10  2023      3         28990\n",
      "11  2023      9         23620\n",
      "12  2024      1          1530\n"
     ]
    }
   ],
   "source": [
    "# Group by month to get total sales per month\n",
    "retail_data_monthly_sales = retail_data.groupby(['year', 'month'])['Total Amount'].sum().reset_index()\n",
    "\n",
    "# Sort by 'total amount' in descending order\n",
    "retail_data_monthly_sales = retail_data_monthly_sales.sort_values(by='Total Amount', ascending=False)\n",
    "\n",
    "# Reset the index for better readability\n",
    "retail_data_monthly_sales.reset_index(drop=True, inplace=True)\n",
    "\n",
    "# Display the sorted DataFrame\n",
    "print(retail_data_monthly_sales)"
   ]
  }
 ],
 "metadata": {
  "kernelspec": {
   "display_name": "dsi_participant",
   "language": "python",
   "name": "python3"
  },
  "language_info": {
   "codemirror_mode": {
    "name": "ipython",
    "version": 3
   },
   "file_extension": ".py",
   "mimetype": "text/x-python",
   "name": "python",
   "nbconvert_exporter": "python",
   "pygments_lexer": "ipython3",
   "version": "3.9.19"
  }
 },
 "nbformat": 4,
 "nbformat_minor": 2
}
